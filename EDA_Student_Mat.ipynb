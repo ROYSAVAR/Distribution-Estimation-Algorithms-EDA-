{
 "cells": [
  {
   "cell_type": "code",
   "execution_count": 1,
   "metadata": {},
   "outputs": [],
   "source": [
    "import numpy as np\n",
    "from sklearn.model_selection import train_test_split\n",
    "from sklearn.ensemble import ExtraTreesRegressor\n",
    "from sklearn.metrics import r2_score\n",
    "import matplotlib.pyplot as plt\n",
    "import pandas as pd\n",
    "\n"
   ]
  },
  {
   "cell_type": "code",
   "execution_count": 2,
   "metadata": {},
   "outputs": [],
   "source": [
    "class EDAFeatureSelection:\n",
    "    def __init__(self, X, Y, popsize=100, NGenerations=10):\n",
    "        self.X_train, self.X_test, self.Y_train, self.Y_test = train_test_split(X, Y, test_size=0.2, random_state=0)\n",
    "        self.model = ExtraTreesRegressor()\n",
    "        self.Nfeatures = X.shape[1]\n",
    "        self.popsize = popsize\n",
    "        self.NGenerations = NGenerations\n",
    "        self.population = np.zeros((self.popsize, self.Nfeatures), int)\n",
    "        self.fitness = np.zeros((self.popsize))\n",
    "        self.elite = np.zeros((self.Nfeatures), int)\n",
    "        self.eliteFit = None\n",
    "\n",
    "    def init_population(self):\n",
    "        self.population = np.random.randint(0, 2, size=(self.popsize, self.Nfeatures))\n",
    "        self.fitness = np.array([self.fitness_individual(i) for i in self.population])\n",
    "\n",
    "    def fitness_individual(self, ind):\n",
    "        self.model.fit(self.X_train[:, ind == 1], self.Y_train)\n",
    "        Ypred = self.model.predict(self.X_test[:, ind == 1])\n",
    "        return r2_score(self.Y_test, Ypred)\n",
    "\n",
    "    def update_elite(self):\n",
    "        i = np.argmax(self.fitness)\n",
    "        if self.eliteFit is None or self.fitness[i] > self.eliteFit:\n",
    "            self.elite = np.copy(self.population[i])\n",
    "            self.eliteFit = self.fitness[i]\n",
    "        else:\n",
    "            i = np.random.randint(self.popsize)\n",
    "            self.population[i] = self.elite\n",
    "            self.fitness[i] = self.eliteFit\n",
    "\n",
    "    def update_population(self):\n",
    "        indices = np.argsort(self.fitness)[::-1][:self.popsize // 2]\n",
    "        bestPop = self.population[indices]\n",
    "        probs = np.mean(bestPop, axis=0)\n",
    "        newPopulation = np.array([[1 if np.random.rand() <= i else 0 for i in probs] for _ in range(self.popsize // 2)])\n",
    "        self.population[0:self.popsize // 2] = bestPop\n",
    "        self.population[self.popsize // 2:] = newPopulation\n",
    "\n",
    "    def plot_results(self, allPopulation, allFitness):\n",
    "        features_used = [np.sum(i) for i in allPopulation]\n",
    "        plt.figure(figsize=(10, 6))\n",
    "        plt.scatter(allFitness, features_used, color='blue', marker='o')\n",
    "        plt.xlabel('Fitness (R2 Score)')\n",
    "        plt.ylabel('Number of Features Used')\n",
    "        plt.title('Feature Selection with EDA')\n",
    "        plt.grid(True)\n",
    "        plt.show()\n",
    "\n",
    "    def exec(self):\n",
    "        self.init_population()\n",
    "        allPopulation = []\n",
    "        allFitness = []\n",
    "        for generation in range(self.NGenerations):\n",
    "            self.update_population()\n",
    "            self.fitness = np.array([self.fitness_individual(ind) for ind in self.population])\n",
    "            self.update_elite()\n",
    "            allPopulation.append(self.population.copy())\n",
    "            allFitness.append(self.fitness.copy())\n",
    "            print(f'Generation {generation}, Best Fitness: {self.eliteFit}')\n",
    "\n",
    "        allPopulation = np.vstack(allPopulation)\n",
    "        allFitness = np.hstack(allFitness)\n",
    "        self.plot_results(allPopulation, allFitness)\n",
    "\n",
    "        return self.elite, self.eliteFit\n"
   ]
  },
  {
   "cell_type": "code",
   "execution_count": 3,
   "metadata": {},
   "outputs": [
    {
     "name": "stdout",
     "output_type": "stream",
     "text": [
      "Generation 0, Best Fitness: 0.880208476495801\n"
     ]
    }
   ],
   "source": [
    "# Cargar datos\n",
    "df = pd.read_csv('student-mat.csv')\n",
    "X = df.iloc[:, :-1].values\n",
    "Y = df.iloc[:, -1].values\n",
    "\n",
    "# Inicializar y ejecutar el EDA\n",
    "eda = EDAFeatureSelection(X, Y, popsize=100, NGenerations=20)\n",
    "mejor_individuo, mejor_fitness = eda.exec()\n",
    "\n",
    "print('Mejor conjunto de características:', mejor_individuo)\n",
    "print('Mejor fitness (R2 Score):', mejor_fitness)\n"
   ]
  }
 ],
 "metadata": {
  "kernelspec": {
   "display_name": "Python 3",
   "language": "python",
   "name": "python3"
  },
  "language_info": {
   "codemirror_mode": {
    "name": "ipython",
    "version": 3
   },
   "file_extension": ".py",
   "mimetype": "text/x-python",
   "name": "python",
   "nbconvert_exporter": "python",
   "pygments_lexer": "ipython3",
   "version": "3.11.1"
  }
 },
 "nbformat": 4,
 "nbformat_minor": 2
}
